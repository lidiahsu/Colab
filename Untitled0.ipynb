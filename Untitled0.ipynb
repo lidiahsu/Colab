{
  "nbformat": 4,
  "nbformat_minor": 0,
  "metadata": {
    "colab": {
      "provenance": [],
      "authorship_tag": "ABX9TyP7vWvCaHS8bFMiyk4jZ5Wc",
      "include_colab_link": true
    },
    "kernelspec": {
      "name": "python3",
      "display_name": "Python 3"
    },
    "language_info": {
      "name": "python"
    }
  },
  "cells": [
    {
      "cell_type": "markdown",
      "metadata": {
        "id": "view-in-github",
        "colab_type": "text"
      },
      "source": [
        "<a href=\"https://colab.research.google.com/github/lidiahsu/Colab/blob/main/Untitled0.ipynb\" target=\"_parent\"><img src=\"https://colab.research.google.com/assets/colab-badge.svg\" alt=\"Open In Colab\"/></a>"
      ]
    },
    {
      "cell_type": "code",
      "execution_count": 1,
      "metadata": {
        "colab": {
          "base_uri": "https://localhost:8080/"
        },
        "id": "D14wMDyx4SdO",
        "outputId": "56655fd2-48ee-4460-ea72-0f6d68f98680"
      },
      "outputs": [
        {
          "output_type": "stream",
          "name": "stdout",
          "text": [
            "Hello Simplelearn\n"
          ]
        }
      ],
      "source": [
        "print('Hello Simplelearn')"
      ]
    },
    {
      "cell_type": "code",
      "source": [
        "minutes_in_a_day = 24 * 36\n"
      ],
      "metadata": {
        "id": "_Gjn9SR56YHt"
      },
      "execution_count": 12,
      "outputs": []
    },
    {
      "cell_type": "code",
      "source": [
        "minutes_in_a_week = 7 * minutes_in_a_day\n",
        "minutes_in_a_week"
      ],
      "metadata": {
        "colab": {
          "base_uri": "https://localhost:8080/"
        },
        "id": "7EtjgChT7hso",
        "outputId": "76e6c08a-2ca7-4caa-b443-78779fa7dd6e"
      },
      "execution_count": 13,
      "outputs": [
        {
          "output_type": "execute_result",
          "data": {
            "text/plain": [
              "6048"
            ]
          },
          "metadata": {},
          "execution_count": 13
        }
      ]
    }
  ]
}